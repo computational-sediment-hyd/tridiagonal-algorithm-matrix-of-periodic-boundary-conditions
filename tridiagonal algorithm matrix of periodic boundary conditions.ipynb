{
 "cells": [
  {
   "cell_type": "markdown",
   "metadata": {},
   "source": [
    "# License\n",
    "\n",
    "https://raw.githubusercontent.com/computational-sediment-hyd/tridiagonal-algorithm-matrix-of-periodic-boundary-conditions/master/LICENSE"
   ]
  },
  {
   "cell_type": "markdown",
   "metadata": {},
   "source": [
    "# tridiagonal algorithm matrix of periodic boundary conditions"
   ]
  },
  {
   "cell_type": "markdown",
   "metadata": {},
   "source": [
    "## はじめに\n",
    "\n",
    "- 周期境界の三重対角は代表的な問題．\n",
    "- その解法は，Sherman-Morrison formulaを使う．\n",
    "- 参考(一部間違いあり)\n",
    ":https://www.cfd-online.com/Wiki/Tridiagonal_matrix_algorithm_-_TDMA_%28Thomas_algorithm%29 \n",
    "\n",
    "\n",
    "## Sherman-Morrison formulaとは\n",
    "参考：https://mathtrain.jp/woodbury\n",
    "\n",
    "- 逆行列の補助定理（Woodburyの恒等式）の特別な場合を示す．\n",
    "\n",
    "逆行列の補助定理とは下式である．\n",
    "\n",
    "$$\n",
    "(A+BDC)^{-1}=A^{-1}-A^{-1}B(D^{-1}+CA^{-1}B)^{-1}CA^{-1}\n",
    "$$\n",
    "\n",
    "証明は省略する．\n",
    "\n",
    "$\n",
    "A:n\\times n \\,,\\,\n",
    "B:n\\times k \\,,\\,\n",
    "C:k\\times n \\,,\\,\n",
    "D:k\\times k\n",
    "$\n",
    "が条件．\n",
    "\n",
    "$k=1\\,,\\, D=1$のときは，\n",
    "\n",
    "$$\n",
    "(A+BC)^{-1}=A^{-1}-A^{-1}B(1+CA^{-1}B)^{-1}CA^{-1}\n",
    "$$\n",
    "\n",
    "であり，本式がシャーマンモリソンの公式と呼ばれる．\n",
    "\n",
    "この式の良いところは，$A$の逆行列が計算できると$A+BC$の逆行列が計算できる点です．\n",
    "今回の問題を例にとると，$A$にTDMAができれば，$A+BC$の逆行列が簡単に計算できるということ．\n",
    "\n",
    "\n",
    "\n"
   ]
  },
  {
   "cell_type": "markdown",
   "metadata": {},
   "source": [
    "## 周期境界三重対角への適用\n",
    "\n",
    "実際に計算してみます．\n",
    "\n",
    "$$\n",
    "A'x=d\n",
    "$$\n",
    "\n",
    "$$\n",
    "A' =\n",
    "\\left(\n",
    "\\begin{array}{cccc}\n",
    "b_1 & c_1 & 0 & a_1 \\\\\n",
    "a_2 & b_2 & c_2 & 0 \\\\\n",
    "0 & a_3 & b_3 & c_3 \\\\\n",
    "c_4 & 0 & a_4 & b_4 \\\\\n",
    "\\end{array}\n",
    "\\right)\n",
    "$$\n",
    "とすると，\n",
    "\n",
    "$$\n",
    "A' = A + B \\times C\n",
    "$$\n",
    "\n",
    "$$\n",
    "A =\n",
    "\\left(\n",
    "\\begin{array}{cccc}\n",
    "2 b_1 & c_1 & 0 & 0 \\\\\n",
    "a_2 & b_2 & c_2 & 0 \\\\\n",
    "0 & a_3 & b_3 & c_3 \\\\\n",
    "0 & 0 & a_4 & b_4 + \\dfrac{a_1 c_4}{b_1} \\\\\n",
    "\\end{array}\n",
    "\\right)\n",
    "$$\n",
    "\n",
    "$$\n",
    "B =\n",
    "\\left(\n",
    "\\begin{array}{c}\n",
    "-b_1  \\\\\n",
    "0  \\\\\n",
    "0  \\\\\n",
    "c_4  \\\\\n",
    "\\end{array}\n",
    "\\right)\n",
    "$$\n",
    "\n",
    "$$\n",
    "C =\n",
    "\\left(\n",
    "\\begin{array}{cccc}\n",
    "1 & 0 & 0 & -\\dfrac{a_1}{b_1}\n",
    "\\end{array}\n",
    "\\right)\n",
    "$$\n",
    "\n",
    "となるので，$A$にTDMAが適用できます"
   ]
  },
  {
   "cell_type": "markdown",
   "metadata": {},
   "source": [
    "あとは，公式にあてはめて展開する.\n",
    "\n",
    "$$\n",
    "A y = d \\,,\\, A z = B \\\\\n",
    "y = A^{-1}  d \\,,\\, z = A^{-1}  B\n",
    "$$\n",
    "とおくと\n",
    "\n",
    "$$\n",
    "x =  y - \\dfrac{C \\cdot y}{1 + C \\cdot z}z\n",
    "$$\n",
    "\n",
    "となり，右辺第二項は$z$のスカラー倍のため，2回のTDMAで容易に計算可能である．"
   ]
  },
  {
   "cell_type": "markdown",
   "metadata": {},
   "source": [
    "## 補足：TDMA（導出は省略）\n",
    " - 一般的にはメモリ節約版を使いますが（パタンカーの影響？），分かりにくいので通常版を使います．\n",
    "\n",
    "三重対角行列\n",
    "$$\n",
    "a_i x_{i-1} + b_i x_i + c_i x_{i+1} = d_i\n",
    "$$\n",
    "について，\n",
    " \n",
    "$$\n",
    "\\begin{align}\n",
    "P_i &= -\\frac{c_i}{a_i P_{i-1} + b_i} \\\\\n",
    "Q_i &= \\frac{-a_iQ_{i-1}+d_i}{a_i P_{i-1} + b_i} \\\\\n",
    "P_1 &= -\\frac{c_1}{b_1} \\\\\n",
    "Q_1 &= \\frac{d_1}{b_1}\n",
    "\\end{align}\n",
    "$$\n",
    "\n",
    "とすると，\n",
    "\n",
    "$$\n",
    "\\begin{align}\n",
    "x_n &= Q_n \\\\\n",
    "x_i &= P_ix_{i+1} + Q_i\n",
    "\\end{align}\n",
    "$$"
   ]
  },
  {
   "cell_type": "markdown",
   "metadata": {},
   "source": [
    "## 実装"
   ]
  },
  {
   "cell_type": "markdown",
   "metadata": {},
   "source": [
    "### Periodic boundary TDMA source code"
   ]
  },
  {
   "cell_type": "code",
   "execution_count": 1,
   "metadata": {},
   "outputs": [],
   "source": [
    "import numpy as np\n",
    "\n",
    "def pTDMA(a,b,c,d):\n",
    "    \n",
    "    def TDMA(a,b,c,d):\n",
    "        x, P, Q = np.empty_like(a), np.empty_like(a), np.empty_like(a)\n",
    "        n = len(x)\n",
    "        \n",
    "        P[0], Q[0] = -c[0]/b[0], d[0]/b[0]\n",
    "        for i in range(1, n):\n",
    "            P[i] = -  c[i]                /(a[i]*P[i-1] + b[i])\n",
    "            Q[i] =  (-a[i]*Q[i-1] + d[i])/(a[i]*P[i-1] + b[i])\n",
    "            \n",
    "        x[-1] = Q[-1]\n",
    "        for i in range(n-2, -1, -1):\n",
    "            x[i] = P[i]*x[i+1] + Q[i]\n",
    "            \n",
    "        return x\n",
    "    \n",
    "    a, b, c, d = np.array(a,dtype=float), np.array(b,dtype=float), np.array(c,dtype=float), np.array(d,dtype=float)\n",
    "    a1, b1, c1, d1 = np.copy(a), np.copy(b), np.copy(c), np.copy(d) #deep copy\n",
    "    a1[0], c1[-1] = 0.0, 0.0\n",
    "    b1[0] = 2.0*b[0]\n",
    "    b1[-1] = b[-1] + a[0]*c[-1]/b[0]\n",
    "    d1[:] = 0.0\n",
    "    d1[0] = -b[0]\n",
    "    d1[-1] = c[-1]\n",
    "    \n",
    "    y = TDMA(a1,b1,c1,d)\n",
    "    z = TDMA(a1,b1,c1,d1)\n",
    "    \n",
    "    w = ( y[0] - a[0]/b[0]*y[-1] ) / ( 1 + (z[0]- a[0]/b[0]*z[-1]) )\n",
    "    x = y - w * z\n",
    "    \n",
    "    return x"
   ]
  },
  {
   "cell_type": "markdown",
   "metadata": {},
   "source": [
    "### test"
   ]
  },
  {
   "cell_type": "code",
   "execution_count": 2,
   "metadata": {},
   "outputs": [
    {
     "name": "stdout",
     "output_type": "stream",
     "text": [
      "[ 2.81456954  2.02649007  2.68211921  3.61589404  4.60264901  5.60264901\n",
      "  6.58940397  7.65562914  8.31125828 11.09933775]\n"
     ]
    }
   ],
   "source": [
    "n = 10\n",
    "a = np.ones(n)\n",
    "b = np.ones(n)\n",
    "c = np.ones(n)\n",
    "d = np.arange(1,n+1,1,dtype=float)\n",
    "\n",
    "a *= -0.2\n",
    "c *= 0.2\n",
    "\n",
    "x = pTDMA(a,b,c,d)\n",
    "print(x)"
   ]
  },
  {
   "cell_type": "markdown",
   "metadata": {},
   "source": [
    " - check print d"
   ]
  },
  {
   "cell_type": "code",
   "execution_count": 3,
   "metadata": {},
   "outputs": [
    {
     "name": "stdout",
     "output_type": "stream",
     "text": [
      "1.0000000000000004\n",
      "2.0\n",
      "3.0\n",
      "3.9999999999999996\n",
      "5.0\n",
      "6.0\n",
      "7.0\n",
      "8.0\n",
      "9.0\n",
      "9.999999999999998\n"
     ]
    }
   ],
   "source": [
    "print( b[0]*x[0] + c[0]*x[1] + a[0]*x[-1] )\n",
    "\n",
    "for i in range(1, n-1):\n",
    "    print( a[i]*x[i-1] + b[i]*x[i] + c[i]*x[i+1] )\n",
    "    \n",
    "print( a[-1]*x[-2] + b[-1]*x[-1] + c[-1]*x[0]  )"
   ]
  }
 ],
 "metadata": {
  "kernelspec": {
   "display_name": "Python 3",
   "language": "python",
   "name": "python3"
  },
  "language_info": {
   "codemirror_mode": {
    "name": "ipython",
    "version": 3
   },
   "file_extension": ".py",
   "mimetype": "text/x-python",
   "name": "python",
   "nbconvert_exporter": "python",
   "pygments_lexer": "ipython3",
   "version": "3.6.4"
  },
  "toc": {
   "base_numbering": 1,
   "nav_menu": {},
   "number_sections": true,
   "sideBar": true,
   "skip_h1_title": false,
   "title_cell": "Table of Contents",
   "title_sidebar": "Contents",
   "toc_cell": false,
   "toc_position": {
    "height": "calc(100% - 180px)",
    "left": "10px",
    "top": "150px",
    "width": "229px"
   },
   "toc_section_display": true,
   "toc_window_display": true
  }
 },
 "nbformat": 4,
 "nbformat_minor": 2
}
